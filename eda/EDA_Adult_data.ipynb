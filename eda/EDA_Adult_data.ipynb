{
 "cells": [
  {
   "cell_type": "code",
   "execution_count": 56,
   "metadata": {},
   "outputs": [
    {
     "data": {
      "text/plain": [
       "DataTransformerRegistry.enable('json')"
      ]
     },
     "execution_count": 56,
     "metadata": {},
     "output_type": "execute_result"
    }
   ],
   "source": [
    "import pandas as pd\n",
    "import numpy as np\n",
    "import matplotlib as plt\n",
    "import altair as alt\n",
    "alt.data_transformers.enable('json')#\n",
    "alt.renderers.enable('notebook')"
   ]
  },
  {
   "cell_type": "markdown",
   "metadata": {},
   "source": [
    "## Load Dataset"
   ]
  },
  {
   "cell_type": "code",
   "execution_count": 57,
   "metadata": {},
   "outputs": [
    {
     "data": {
      "text/html": [
       "<div>\n",
       "<style scoped>\n",
       "    .dataframe tbody tr th:only-of-type {\n",
       "        vertical-align: middle;\n",
       "    }\n",
       "\n",
       "    .dataframe tbody tr th {\n",
       "        vertical-align: top;\n",
       "    }\n",
       "\n",
       "    .dataframe thead th {\n",
       "        text-align: right;\n",
       "    }\n",
       "</style>\n",
       "<table border=\"1\" class=\"dataframe\">\n",
       "  <thead>\n",
       "    <tr style=\"text-align: right;\">\n",
       "      <th></th>\n",
       "      <th>age</th>\n",
       "      <th>workclass</th>\n",
       "      <th>fnlwgt</th>\n",
       "      <th>education</th>\n",
       "      <th>education-num</th>\n",
       "      <th>marital-status</th>\n",
       "      <th>occupation</th>\n",
       "      <th>relationship</th>\n",
       "      <th>race</th>\n",
       "      <th>sex</th>\n",
       "      <th>capital-gain</th>\n",
       "      <th>capital-loss</th>\n",
       "      <th>hours-per-week</th>\n",
       "      <th>native-country</th>\n",
       "      <th>target</th>\n",
       "    </tr>\n",
       "  </thead>\n",
       "  <tbody>\n",
       "    <tr>\n",
       "      <th>0</th>\n",
       "      <td>35</td>\n",
       "      <td>Private</td>\n",
       "      <td>204621</td>\n",
       "      <td>Assoc-acdm</td>\n",
       "      <td>12</td>\n",
       "      <td>Divorced</td>\n",
       "      <td>Other-service</td>\n",
       "      <td>Own-child</td>\n",
       "      <td>White</td>\n",
       "      <td>Female</td>\n",
       "      <td>0</td>\n",
       "      <td>0</td>\n",
       "      <td>40</td>\n",
       "      <td>United-States</td>\n",
       "      <td>&lt;=50K</td>\n",
       "    </tr>\n",
       "    <tr>\n",
       "      <th>1</th>\n",
       "      <td>36</td>\n",
       "      <td>Private</td>\n",
       "      <td>250807</td>\n",
       "      <td>11th</td>\n",
       "      <td>7</td>\n",
       "      <td>Never-married</td>\n",
       "      <td>Craft-repair</td>\n",
       "      <td>Not-in-family</td>\n",
       "      <td>Black</td>\n",
       "      <td>Female</td>\n",
       "      <td>0</td>\n",
       "      <td>0</td>\n",
       "      <td>40</td>\n",
       "      <td>United-States</td>\n",
       "      <td>&lt;=50K</td>\n",
       "    </tr>\n",
       "    <tr>\n",
       "      <th>2</th>\n",
       "      <td>21</td>\n",
       "      <td>Private</td>\n",
       "      <td>273403</td>\n",
       "      <td>Assoc-voc</td>\n",
       "      <td>11</td>\n",
       "      <td>Never-married</td>\n",
       "      <td>Other-service</td>\n",
       "      <td>Not-in-family</td>\n",
       "      <td>White</td>\n",
       "      <td>Female</td>\n",
       "      <td>0</td>\n",
       "      <td>0</td>\n",
       "      <td>50</td>\n",
       "      <td>United-States</td>\n",
       "      <td>&lt;=50K</td>\n",
       "    </tr>\n",
       "    <tr>\n",
       "      <th>3</th>\n",
       "      <td>56</td>\n",
       "      <td>Private</td>\n",
       "      <td>261232</td>\n",
       "      <td>HS-grad</td>\n",
       "      <td>9</td>\n",
       "      <td>Never-married</td>\n",
       "      <td>Craft-repair</td>\n",
       "      <td>Not-in-family</td>\n",
       "      <td>White</td>\n",
       "      <td>Male</td>\n",
       "      <td>0</td>\n",
       "      <td>0</td>\n",
       "      <td>40</td>\n",
       "      <td>United-States</td>\n",
       "      <td>&lt;=50K</td>\n",
       "    </tr>\n",
       "    <tr>\n",
       "      <th>4</th>\n",
       "      <td>20</td>\n",
       "      <td>Private</td>\n",
       "      <td>33644</td>\n",
       "      <td>HS-grad</td>\n",
       "      <td>9</td>\n",
       "      <td>Never-married</td>\n",
       "      <td>Adm-clerical</td>\n",
       "      <td>Own-child</td>\n",
       "      <td>White</td>\n",
       "      <td>Female</td>\n",
       "      <td>0</td>\n",
       "      <td>0</td>\n",
       "      <td>30</td>\n",
       "      <td>United-States</td>\n",
       "      <td>&lt;=50K</td>\n",
       "    </tr>\n",
       "  </tbody>\n",
       "</table>\n",
       "</div>"
      ],
      "text/plain": [
       "   age workclass  fnlwgt    education  education-num  marital-status  \\\n",
       "0   35   Private  204621   Assoc-acdm             12        Divorced   \n",
       "1   36   Private  250807         11th              7   Never-married   \n",
       "2   21   Private  273403    Assoc-voc             11   Never-married   \n",
       "3   56   Private  261232      HS-grad              9   Never-married   \n",
       "4   20   Private   33644      HS-grad              9   Never-married   \n",
       "\n",
       "       occupation    relationship    race      sex  capital-gain  \\\n",
       "0   Other-service       Own-child   White   Female             0   \n",
       "1    Craft-repair   Not-in-family   Black   Female             0   \n",
       "2   Other-service   Not-in-family   White   Female             0   \n",
       "3    Craft-repair   Not-in-family   White     Male             0   \n",
       "4    Adm-clerical       Own-child   White   Female             0   \n",
       "\n",
       "   capital-loss  hours-per-week  native-country  target  \n",
       "0             0              40   United-States   <=50K  \n",
       "1             0              40   United-States   <=50K  \n",
       "2             0              50   United-States   <=50K  \n",
       "3             0              40   United-States   <=50K  \n",
       "4             0              30   United-States   <=50K  "
      ]
     },
     "execution_count": 57,
     "metadata": {},
     "output_type": "execute_result"
    }
   ],
   "source": [
    "X_train = pd.read_csv('../data/train.csv')\n",
    "X_train.head()"
   ]
  },
  {
   "cell_type": "code",
   "execution_count": 58,
   "metadata": {},
   "outputs": [],
   "source": [
    "X_train.columns = X_train.columns.str.replace('-', '_') \n",
    "\n",
    "numerical = ['age','fnlwgt','education_num','capital_gain','capital_loss','hours_per_week']\n",
    "categorical = ['workclass','education','marital_status','occupation','relationship','race','sex','native_country','target']\n",
    "\n",
    "# Getting rid of blanks at the start of categorical features\n",
    "X_train[categorical] = X_train[categorical].apply(lambda x: x.str.strip())"
   ]
  },
  {
   "cell_type": "markdown",
   "metadata": {},
   "source": [
    "## Exploring data"
   ]
  },
  {
   "cell_type": "code",
   "execution_count": 59,
   "metadata": {},
   "outputs": [
    {
     "data": {
      "text/html": [
       "<div>\n",
       "<style scoped>\n",
       "    .dataframe tbody tr th:only-of-type {\n",
       "        vertical-align: middle;\n",
       "    }\n",
       "\n",
       "    .dataframe tbody tr th {\n",
       "        vertical-align: top;\n",
       "    }\n",
       "\n",
       "    .dataframe thead th {\n",
       "        text-align: right;\n",
       "    }\n",
       "</style>\n",
       "<table border=\"1\" class=\"dataframe\">\n",
       "  <thead>\n",
       "    <tr style=\"text-align: right;\">\n",
       "      <th></th>\n",
       "      <th>age</th>\n",
       "      <th>fnlwgt</th>\n",
       "      <th>education_num</th>\n",
       "      <th>capital_gain</th>\n",
       "      <th>capital_loss</th>\n",
       "      <th>hours_per_week</th>\n",
       "    </tr>\n",
       "  </thead>\n",
       "  <tbody>\n",
       "    <tr>\n",
       "      <th>count</th>\n",
       "      <td>26048.000000</td>\n",
       "      <td>2.604800e+04</td>\n",
       "      <td>26048.000000</td>\n",
       "      <td>26048.000000</td>\n",
       "      <td>26048.000000</td>\n",
       "      <td>26048.000000</td>\n",
       "    </tr>\n",
       "    <tr>\n",
       "      <th>mean</th>\n",
       "      <td>38.545416</td>\n",
       "      <td>1.898294e+05</td>\n",
       "      <td>10.077242</td>\n",
       "      <td>1039.185772</td>\n",
       "      <td>87.548718</td>\n",
       "      <td>40.386248</td>\n",
       "    </tr>\n",
       "    <tr>\n",
       "      <th>std</th>\n",
       "      <td>13.666343</td>\n",
       "      <td>1.056574e+05</td>\n",
       "      <td>2.573230</td>\n",
       "      <td>7167.150640</td>\n",
       "      <td>403.647262</td>\n",
       "      <td>12.395259</td>\n",
       "    </tr>\n",
       "    <tr>\n",
       "      <th>min</th>\n",
       "      <td>17.000000</td>\n",
       "      <td>1.228500e+04</td>\n",
       "      <td>1.000000</td>\n",
       "      <td>0.000000</td>\n",
       "      <td>0.000000</td>\n",
       "      <td>1.000000</td>\n",
       "    </tr>\n",
       "    <tr>\n",
       "      <th>25%</th>\n",
       "      <td>28.000000</td>\n",
       "      <td>1.179630e+05</td>\n",
       "      <td>9.000000</td>\n",
       "      <td>0.000000</td>\n",
       "      <td>0.000000</td>\n",
       "      <td>40.000000</td>\n",
       "    </tr>\n",
       "    <tr>\n",
       "      <th>50%</th>\n",
       "      <td>37.000000</td>\n",
       "      <td>1.783530e+05</td>\n",
       "      <td>10.000000</td>\n",
       "      <td>0.000000</td>\n",
       "      <td>0.000000</td>\n",
       "      <td>40.000000</td>\n",
       "    </tr>\n",
       "    <tr>\n",
       "      <th>75%</th>\n",
       "      <td>48.000000</td>\n",
       "      <td>2.369922e+05</td>\n",
       "      <td>12.000000</td>\n",
       "      <td>0.000000</td>\n",
       "      <td>0.000000</td>\n",
       "      <td>45.000000</td>\n",
       "    </tr>\n",
       "    <tr>\n",
       "      <th>max</th>\n",
       "      <td>90.000000</td>\n",
       "      <td>1.484705e+06</td>\n",
       "      <td>16.000000</td>\n",
       "      <td>99999.000000</td>\n",
       "      <td>4356.000000</td>\n",
       "      <td>99.000000</td>\n",
       "    </tr>\n",
       "  </tbody>\n",
       "</table>\n",
       "</div>"
      ],
      "text/plain": [
       "                age        fnlwgt  education_num  capital_gain  capital_loss  \\\n",
       "count  26048.000000  2.604800e+04   26048.000000  26048.000000  26048.000000   \n",
       "mean      38.545416  1.898294e+05      10.077242   1039.185772     87.548718   \n",
       "std       13.666343  1.056574e+05       2.573230   7167.150640    403.647262   \n",
       "min       17.000000  1.228500e+04       1.000000      0.000000      0.000000   \n",
       "25%       28.000000  1.179630e+05       9.000000      0.000000      0.000000   \n",
       "50%       37.000000  1.783530e+05      10.000000      0.000000      0.000000   \n",
       "75%       48.000000  2.369922e+05      12.000000      0.000000      0.000000   \n",
       "max       90.000000  1.484705e+06      16.000000  99999.000000   4356.000000   \n",
       "\n",
       "       hours_per_week  \n",
       "count    26048.000000  \n",
       "mean        40.386248  \n",
       "std         12.395259  \n",
       "min          1.000000  \n",
       "25%         40.000000  \n",
       "50%         40.000000  \n",
       "75%         45.000000  \n",
       "max         99.000000  "
      ]
     },
     "execution_count": 59,
     "metadata": {},
     "output_type": "execute_result"
    }
   ],
   "source": [
    "X_train.describe()"
   ]
  },
  {
   "cell_type": "code",
   "execution_count": 60,
   "metadata": {},
   "outputs": [
    {
     "name": "stdout",
     "output_type": "stream",
     "text": [
      "The number of unique workclass is: 9\n",
      "The categories are:\n",
      " ['Private' 'Self-emp-inc' 'Local-gov' 'Self-emp-not-inc' '?' 'State-gov'\n",
      " 'Federal-gov' 'Without-pay' 'Never-worked']\n"
     ]
    }
   ],
   "source": [
    "print(\"The number of unique workclass is: {0}\".format(X_train['workclass'].unique().shape[0]))\n",
    "print(\"The categories are:\\n {0}\".format(X_train['workclass'].unique()))"
   ]
  },
  {
   "cell_type": "code",
   "execution_count": 61,
   "metadata": {
    "scrolled": true
   },
   "outputs": [
    {
     "name": "stdout",
     "output_type": "stream",
     "text": [
      "The number of unique education is: 16\n",
      "The categories are:\n",
      " ['Assoc-acdm' '11th' 'Assoc-voc' 'HS-grad' '12th' 'Some-college'\n",
      " 'Bachelors' 'Masters' 'Doctorate' '7th-8th' '1st-4th' 'Prof-school'\n",
      " '10th' '9th' '5th-6th' 'Preschool']\n"
     ]
    }
   ],
   "source": [
    "print(\"The number of unique education is: {0}\".format(X_train['education'].unique().shape[0]))\n",
    "print(\"The categories are:\\n {0}\".format(X_train['education'].unique()))"
   ]
  },
  {
   "cell_type": "code",
   "execution_count": 62,
   "metadata": {},
   "outputs": [
    {
     "name": "stdout",
     "output_type": "stream",
     "text": [
      "The number of unique marital_status is: 7\n",
      "The categories are:\n",
      " ['Divorced' 'Never-married' 'Widowed' 'Married-civ-spouse' 'Separated'\n",
      " 'Married-spouse-absent' 'Married-AF-spouse']\n"
     ]
    }
   ],
   "source": [
    "print(\"The number of unique marital_status is: {0}\".format(X_train['marital_status'].unique().shape[0]))\n",
    "print(\"The categories are:\\n {0}\".format(X_train['marital_status'].unique()))"
   ]
  },
  {
   "cell_type": "code",
   "execution_count": 63,
   "metadata": {},
   "outputs": [
    {
     "name": "stdout",
     "output_type": "stream",
     "text": [
      "The number of unique occupation is: 15\n",
      "The categories are :\n",
      " ['Other-service' 'Craft-repair' 'Adm-clerical' 'Exec-managerial' 'Sales'\n",
      " 'Protective-serv' 'Prof-specialty' '?' 'Farming-fishing'\n",
      " 'Transport-moving' 'Handlers-cleaners' 'Machine-op-inspct' 'Tech-support'\n",
      " 'Priv-house-serv' 'Armed-Forces']\n"
     ]
    }
   ],
   "source": [
    "print(\"The number of unique occupation is: {0}\".format(X_train['occupation'].unique().shape[0]))\n",
    "print(\"The categories are :\\n {0}\".format(X_train['occupation'].unique()))"
   ]
  },
  {
   "cell_type": "code",
   "execution_count": 64,
   "metadata": {},
   "outputs": [
    {
     "name": "stdout",
     "output_type": "stream",
     "text": [
      "The number of unique relationship is: 6\n",
      "The categories are :\n",
      " ['Own-child' 'Not-in-family' 'Unmarried' 'Husband' 'Wife' 'Other-relative']\n"
     ]
    }
   ],
   "source": [
    "print(\"The number of unique relationship is: {0}\".format(X_train['relationship'].unique().shape[0]))\n",
    "print(\"The categories are :\\n {0}\".format(X_train['relationship'].unique()))"
   ]
  },
  {
   "cell_type": "code",
   "execution_count": 65,
   "metadata": {},
   "outputs": [
    {
     "name": "stdout",
     "output_type": "stream",
     "text": [
      "The number unique race is: 5\n",
      "The categories are:\n",
      " ['White' 'Black' 'Other' 'Asian-Pac-Islander' 'Amer-Indian-Eskimo']\n"
     ]
    }
   ],
   "source": [
    "print(\"The number unique race is: {0}\".format(X_train['race'].unique().shape[0]))\n",
    "print(\"The categories are:\\n {0}\".format(X_train['race'].unique()))"
   ]
  },
  {
   "cell_type": "code",
   "execution_count": 66,
   "metadata": {},
   "outputs": [
    {
     "name": "stdout",
     "output_type": "stream",
     "text": [
      "The number unique sex is: 2\n",
      "The categories are:\n",
      " ['Female' 'Male']\n"
     ]
    }
   ],
   "source": [
    "print(\"The number unique sex is: {0}\".format(X_train['sex'].unique().shape[0]))\n",
    "print(\"The categories are:\\n {0}\".format(X_train['sex'].unique()))"
   ]
  },
  {
   "cell_type": "code",
   "execution_count": 67,
   "metadata": {},
   "outputs": [
    {
     "name": "stdout",
     "output_type": "stream",
     "text": [
      "The number of unique native_country is: 41\n",
      "The countries are:\n",
      " ['United-States' 'Poland' '?' 'Mexico' 'Canada' 'China' 'England' 'Haiti'\n",
      " 'Italy' 'Jamaica' 'Portugal' 'France' 'Philippines' 'India' 'Iran'\n",
      " 'Dominican-Republic' 'Puerto-Rico' 'Ireland' 'Scotland' 'Cuba' 'Thailand'\n",
      " 'Yugoslavia' 'South' 'Cambodia' 'Germany' 'Vietnam' 'Guatemala' 'Peru'\n",
      " 'Columbia' 'Japan' 'Ecuador' 'El-Salvador' 'Laos'\n",
      " 'Outlying-US(Guam-USVI-etc)' 'Nicaragua' 'Taiwan' 'Trinadad&Tobago'\n",
      " 'Greece' 'Honduras' 'Hong' 'Hungary']\n"
     ]
    }
   ],
   "source": [
    "print(\"The number of unique native_country is: {0}\".format(X_train['native_country'].unique().shape[0]))\n",
    "print(\"The countries are:\\n {0}\".format(X_train['native_country'].unique()))"
   ]
  },
  {
   "cell_type": "code",
   "execution_count": 68,
   "metadata": {},
   "outputs": [
    {
     "name": "stdout",
     "output_type": "stream",
     "text": [
      "Number of observations with income Class >50K $ = 6270\n",
      "Number of observations with income Class <=50K $ = 19778\n"
     ]
    }
   ],
   "source": [
    "print(\"Number of observations with income Class >50K $ = {0}\".format(X_train['target'].value_counts()[1]))\n",
    "print(\"Number of observations with income Class <=50K $ = {0}\".format(X_train['target'].value_counts()[0]))"
   ]
  },
  {
   "cell_type": "markdown",
   "metadata": {},
   "source": [
    "## Observations\n",
    "\n",
    "- Categorical variables `native_country`, `occupation` and `workclass` have `?` in some places.\n",
    "- Outliers are present in numerical variables `capital_gain` and `capital_loss`.\n",
    "- Target classes aren't evenly distributed."
   ]
  },
  {
   "cell_type": "markdown",
   "metadata": {},
   "source": [
    "## Relation among different variables"
   ]
  },
  {
   "cell_type": "code",
   "execution_count": 69,
   "metadata": {},
   "outputs": [
    {
     "data": {
      "text/html": [
       "<div>\n",
       "<style scoped>\n",
       "    .dataframe tbody tr th:only-of-type {\n",
       "        vertical-align: middle;\n",
       "    }\n",
       "\n",
       "    .dataframe tbody tr th {\n",
       "        vertical-align: top;\n",
       "    }\n",
       "\n",
       "    .dataframe thead th {\n",
       "        text-align: right;\n",
       "    }\n",
       "</style>\n",
       "<table border=\"1\" class=\"dataframe\">\n",
       "  <thead>\n",
       "    <tr style=\"text-align: right;\">\n",
       "      <th></th>\n",
       "      <th>age</th>\n",
       "      <th>workclass</th>\n",
       "      <th>fnlwgt</th>\n",
       "      <th>education</th>\n",
       "      <th>education_num</th>\n",
       "      <th>marital_status</th>\n",
       "      <th>occupation</th>\n",
       "      <th>relationship</th>\n",
       "      <th>race</th>\n",
       "      <th>sex</th>\n",
       "      <th>capital_gain</th>\n",
       "      <th>capital_loss</th>\n",
       "      <th>hours_per_week</th>\n",
       "      <th>native_country</th>\n",
       "      <th>target</th>\n",
       "    </tr>\n",
       "  </thead>\n",
       "  <tbody>\n",
       "    <tr>\n",
       "      <th>0</th>\n",
       "      <td>35</td>\n",
       "      <td>Private</td>\n",
       "      <td>204621</td>\n",
       "      <td>Assoc-acdm</td>\n",
       "      <td>12</td>\n",
       "      <td>Divorced</td>\n",
       "      <td>Other-service</td>\n",
       "      <td>Own-child</td>\n",
       "      <td>White</td>\n",
       "      <td>Female</td>\n",
       "      <td>0</td>\n",
       "      <td>0</td>\n",
       "      <td>40</td>\n",
       "      <td>United-States</td>\n",
       "      <td>&lt;=50K</td>\n",
       "    </tr>\n",
       "    <tr>\n",
       "      <th>1</th>\n",
       "      <td>36</td>\n",
       "      <td>Private</td>\n",
       "      <td>250807</td>\n",
       "      <td>11th</td>\n",
       "      <td>7</td>\n",
       "      <td>Never-married</td>\n",
       "      <td>Craft-repair</td>\n",
       "      <td>Not-in-family</td>\n",
       "      <td>Black</td>\n",
       "      <td>Female</td>\n",
       "      <td>0</td>\n",
       "      <td>0</td>\n",
       "      <td>40</td>\n",
       "      <td>United-States</td>\n",
       "      <td>&lt;=50K</td>\n",
       "    </tr>\n",
       "    <tr>\n",
       "      <th>2</th>\n",
       "      <td>21</td>\n",
       "      <td>Private</td>\n",
       "      <td>273403</td>\n",
       "      <td>Assoc-voc</td>\n",
       "      <td>11</td>\n",
       "      <td>Never-married</td>\n",
       "      <td>Other-service</td>\n",
       "      <td>Not-in-family</td>\n",
       "      <td>White</td>\n",
       "      <td>Female</td>\n",
       "      <td>0</td>\n",
       "      <td>0</td>\n",
       "      <td>50</td>\n",
       "      <td>United-States</td>\n",
       "      <td>&lt;=50K</td>\n",
       "    </tr>\n",
       "    <tr>\n",
       "      <th>3</th>\n",
       "      <td>56</td>\n",
       "      <td>Private</td>\n",
       "      <td>261232</td>\n",
       "      <td>HS-grad</td>\n",
       "      <td>9</td>\n",
       "      <td>Never-married</td>\n",
       "      <td>Craft-repair</td>\n",
       "      <td>Not-in-family</td>\n",
       "      <td>White</td>\n",
       "      <td>Male</td>\n",
       "      <td>0</td>\n",
       "      <td>0</td>\n",
       "      <td>40</td>\n",
       "      <td>United-States</td>\n",
       "      <td>&lt;=50K</td>\n",
       "    </tr>\n",
       "    <tr>\n",
       "      <th>4</th>\n",
       "      <td>20</td>\n",
       "      <td>Private</td>\n",
       "      <td>33644</td>\n",
       "      <td>HS-grad</td>\n",
       "      <td>9</td>\n",
       "      <td>Never-married</td>\n",
       "      <td>Adm-clerical</td>\n",
       "      <td>Own-child</td>\n",
       "      <td>White</td>\n",
       "      <td>Female</td>\n",
       "      <td>0</td>\n",
       "      <td>0</td>\n",
       "      <td>30</td>\n",
       "      <td>United-States</td>\n",
       "      <td>&lt;=50K</td>\n",
       "    </tr>\n",
       "  </tbody>\n",
       "</table>\n",
       "</div>"
      ],
      "text/plain": [
       "   age workclass  fnlwgt   education  education_num marital_status  \\\n",
       "0   35   Private  204621  Assoc-acdm             12       Divorced   \n",
       "1   36   Private  250807        11th              7  Never-married   \n",
       "2   21   Private  273403   Assoc-voc             11  Never-married   \n",
       "3   56   Private  261232     HS-grad              9  Never-married   \n",
       "4   20   Private   33644     HS-grad              9  Never-married   \n",
       "\n",
       "      occupation   relationship   race     sex  capital_gain  capital_loss  \\\n",
       "0  Other-service      Own-child  White  Female             0             0   \n",
       "1   Craft-repair  Not-in-family  Black  Female             0             0   \n",
       "2  Other-service  Not-in-family  White  Female             0             0   \n",
       "3   Craft-repair  Not-in-family  White    Male             0             0   \n",
       "4   Adm-clerical      Own-child  White  Female             0             0   \n",
       "\n",
       "   hours_per_week native_country target  \n",
       "0              40  United-States  <=50K  \n",
       "1              40  United-States  <=50K  \n",
       "2              50  United-States  <=50K  \n",
       "3              40  United-States  <=50K  \n",
       "4              30  United-States  <=50K  "
      ]
     },
     "execution_count": 69,
     "metadata": {},
     "output_type": "execute_result"
    }
   ],
   "source": [
    "X_train.head()"
   ]
  },
  {
   "cell_type": "code",
   "execution_count": 81,
   "metadata": {},
   "outputs": [
    {
     "data": {
      "application/vnd.vegalite.v3+json": {
       "$schema": "https://vega.github.io/schema/vega-lite/v3.4.0.json",
       "config": {
        "mark": {
         "tooltip": null
        },
        "view": {
         "height": 300,
         "width": 400
        }
       },
       "data": {
        "format": {
         "type": "json"
        },
        "url": "altair-data-40761032f0f14a89f55e98fd2b46e664.json"
       },
       "encoding": {
        "facet": {
         "field": "sex",
         "type": "nominal"
        },
        "x": {
         "field": "target",
         "title": "Income level",
         "type": "ordinal"
        },
        "y": {
         "field": "age",
         "title": "Age (years)",
         "type": "quantitative"
        }
       },
       "height": 200,
       "mark": "boxplot",
       "title": "Distribution of age across income level by sex",
       "width": 400
      },
      "image/png": "[encoded data removed]",
      "text/plain": [
       "<VegaLite 3 object>\n",
       "\n",
       "If you see this message, it means the renderer has not been properly enabled\n",
       "for the frontend that you are using. For more information, see\n",
       "https://altair-viz.github.io/user_guide/troubleshooting.html\n"
      ]
     },
     "execution_count": 81,
     "metadata": {},
     "output_type": "execute_result"
    }
   ],
   "source": [
    "# Plot distribution of age across income level by sex\n",
    "alt.data_transformers.disable_max_rows()\n",
    "\n",
    "p1 = alt.Chart(X_train).mark_boxplot().encode(\n",
    "    alt.X('target:O', title='Income level'),\n",
    "    alt.Y('age:Q', title='Age (years)'),\n",
    "    facet='sex:N'\n",
    ").properties(\n",
    "    title='Distribution of age across income level by sex',\n",
    "    width=400,\n",
    "    height=200\n",
    ")\n",
    "p1"
   ]
  },
  {
   "cell_type": "code",
   "execution_count": 82,
   "metadata": {},
   "outputs": [
    {
     "data": {
      "application/vnd.vegalite.v3+json": {
       "$schema": "https://vega.github.io/schema/vega-lite/v3.4.0.json",
       "config": {
        "mark": {
         "tooltip": null
        },
        "view": {
         "height": 300,
         "width": 400
        }
       },
       "data": {
        "format": {
         "type": "json"
        },
        "url": "altair-data-40761032f0f14a89f55e98fd2b46e664.json"
       },
       "encoding": {
        "facet": {
         "field": "target",
         "type": "nominal"
        },
        "x": {
         "bin": {
          "step": 1
         },
         "field": "education_num",
         "title": "Years in education",
         "type": "quantitative"
        },
        "y": {
         "aggregate": "count",
         "title": "Counts",
         "type": "quantitative"
        }
       },
       "height": 200,
       "mark": "bar",
       "title": "Distribution of years in education by income level",
       "width": 400
      },
      "image/png": "[encoded data removed]",
      "text/plain": [
       "<VegaLite 3 object>\n",
       "\n",
       "If you see this message, it means the renderer has not been properly enabled\n",
       "for the frontend that you are using. For more information, see\n",
       "https://altair-viz.github.io/user_guide/troubleshooting.html\n"
      ]
     },
     "execution_count": 82,
     "metadata": {},
     "output_type": "execute_result"
    }
   ],
   "source": [
    "# Plot distribution of years in education by income level\n",
    "p2 = alt.Chart(X_train).mark_bar().encode(\n",
    "    alt.X('education_num:Q', bin=alt.Bin(step=1), title='Years in education'),\n",
    "    alt.Y('count()', title='Counts'),\n",
    "    facet='target:N'\n",
    ").properties(\n",
    "    title='Distribution of years in education by income level',\n",
    "    width=400,\n",
    "    height=200\n",
    ")\n",
    "p2"
   ]
  },
  {
   "cell_type": "code",
   "execution_count": 83,
   "metadata": {},
   "outputs": [
    {
     "data": {
      "application/vnd.vegalite.v3+json": {
       "$schema": "https://vega.github.io/schema/vega-lite/v3.4.0.json",
       "config": {
        "mark": {
         "tooltip": null
        },
        "view": {
         "height": 300,
         "width": 400
        }
       },
       "data": {
        "format": {
         "type": "json"
        },
        "url": "altair-data-40761032f0f14a89f55e98fd2b46e664.json"
       },
       "encoding": {
        "facet": {
         "field": "target",
         "type": "nominal"
        },
        "x": {
         "bin": {
          "step": 2
         },
         "field": "hours_per_week",
         "title": "Weekly hours of work",
         "type": "quantitative"
        },
        "y": {
         "aggregate": "count",
         "title": "Counts",
         "type": "quantitative"
        }
       },
       "height": 200,
       "mark": "bar",
       "title": "Distribution of weekly hours of work by income level",
       "width": 400
      },
      "image/png": "[encoded data removed]",
      "text/plain": [
       "<VegaLite 3 object>\n",
       "\n",
       "If you see this message, it means the renderer has not been properly enabled\n",
       "for the frontend that you are using. For more information, see\n",
       "https://altair-viz.github.io/user_guide/troubleshooting.html\n"
      ]
     },
     "execution_count": 83,
     "metadata": {},
     "output_type": "execute_result"
    }
   ],
   "source": [
    "# Plot distribution of weekly hours of work by income level \n",
    "p3 = alt.Chart(X_train).mark_bar().encode(\n",
    "    alt.X('hours_per_week:Q', bin=alt.Bin(step=2), title='Weekly hours of work'),\n",
    "    alt.Y('count()', title='Counts'),\n",
    "    facet='target:N'\n",
    ").properties(\n",
    "    title='Distribution of weekly hours of work by income level',\n",
    "    width=400,\n",
    "    height=200\n",
    ")\n",
    "p3"
   ]
  },
  {
   "cell_type": "code",
   "execution_count": 84,
   "metadata": {},
   "outputs": [
    {
     "data": {
      "application/vnd.vegalite.v3+json": {
       "$schema": "https://vega.github.io/schema/vega-lite/v3.4.0.json",
       "config": {
        "mark": {
         "tooltip": null
        },
        "view": {
         "height": 300,
         "width": 400
        }
       },
       "data": {
        "format": {
         "type": "json"
        },
        "url": "altair-data-40761032f0f14a89f55e98fd2b46e664.json"
       },
       "encoding": {
        "facet": {
         "field": "target",
         "type": "nominal"
        },
        "x": {
         "bin": {
          "extent": [
           0,
           500
          ],
          "step": 50
         },
         "field": "capital_gain",
         "title": "Capital gain",
         "type": "quantitative"
        },
        "y": {
         "aggregate": "count",
         "title": "Counts",
         "type": "quantitative"
        }
       },
       "height": 150,
       "mark": "bar",
       "title": "Distribution of capital gain by income level",
       "width": 400
      },
      "image/png": "[encoded data removed]",
      "text/plain": [
       "<VegaLite 3 object>\n",
       "\n",
       "If you see this message, it means the renderer has not been properly enabled\n",
       "for the frontend that you are using. For more information, see\n",
       "https://altair-viz.github.io/user_guide/troubleshooting.html\n"
      ]
     },
     "execution_count": 84,
     "metadata": {},
     "output_type": "execute_result"
    }
   ],
   "source": [
    "# Plot distribution of capital gain by income level\n",
    "p4 = alt.Chart(X_train).mark_bar().encode(\n",
    "    alt.X('capital_gain:Q', bin=alt.Bin(extent=[0, 500], step=50), title='Capital gain'),\n",
    "    alt.Y('count()', title='Counts'),\n",
    "    facet='target:N'\n",
    ").properties(\n",
    "    title='Distribution of capital gain by income level',\n",
    "    width=400,\n",
    "    height=150\n",
    ")\n",
    "\n",
    "# Plot distribution of capital loss by income level\n",
    "p5 = alt.Chart(X_train).mark_bar().encode(\n",
    "    alt.X('capital_loss:Q', bin=alt.Bin(extent=[0, 1000], step=50), title='Capital loss'),\n",
    "    alt.Y('count()', title='Counts'),\n",
    "    facet='target:N'\n",
    ").properties(\n",
    "    title='Distribution of capital loss by income level',\n",
    "    width=400,\n",
    "    height=150\n",
    ")\n",
    "\n",
    "p4"
   ]
  },
  {
   "cell_type": "code",
   "execution_count": 85,
   "metadata": {},
   "outputs": [
    {
     "data": {
      "application/vnd.vegalite.v3+json": {
       "$schema": "https://vega.github.io/schema/vega-lite/v3.4.0.json",
       "config": {
        "mark": {
         "tooltip": null
        },
        "view": {
         "height": 300,
         "width": 400
        }
       },
       "data": {
        "format": {
         "type": "json"
        },
        "url": "altair-data-40761032f0f14a89f55e98fd2b46e664.json"
       },
       "encoding": {
        "facet": {
         "field": "target",
         "type": "nominal"
        },
        "x": {
         "bin": {
          "extent": [
           0,
           1000
          ],
          "step": 50
         },
         "field": "capital_loss",
         "title": "Capital loss",
         "type": "quantitative"
        },
        "y": {
         "aggregate": "count",
         "title": "Counts",
         "type": "quantitative"
        }
       },
       "height": 150,
       "mark": "bar",
       "title": "Distribution of capital loss by income level",
       "width": 400
      },
      "image/png": "[encoded data removed]",
      "text/plain": [
       "<VegaLite 3 object>\n",
       "\n",
       "If you see this message, it means the renderer has not been properly enabled\n",
       "for the frontend that you are using. For more information, see\n",
       "https://altair-viz.github.io/user_guide/troubleshooting.html\n"
      ]
     },
     "execution_count": 85,
     "metadata": {},
     "output_type": "execute_result"
    }
   ],
   "source": [
    "p5"
   ]
  },
  {
   "cell_type": "code",
   "execution_count": 86,
   "metadata": {},
   "outputs": [
    {
     "data": {
      "application/vnd.vegalite.v3+json": {
       "$schema": "https://vega.github.io/schema/vega-lite/v3.4.0.json",
       "config": {
        "mark": {
         "tooltip": null
        },
        "view": {
         "height": 300,
         "width": 400
        }
       },
       "data": {
        "format": {
         "type": "json"
        },
        "url": "altair-data-40761032f0f14a89f55e98fd2b46e664.json"
       },
       "encoding": {
        "facet": {
         "field": "target",
         "type": "nominal"
        },
        "x": {
         "field": "race",
         "title": null,
         "type": "ordinal"
        },
        "y": {
         "aggregate": "count",
         "title": "Counts",
         "type": "quantitative"
        }
       },
       "height": 200,
       "mark": "bar",
       "title": "Frequency of race by income level",
       "width": 300
      },
      "image/png": "[encoded data removed]",
      "text/plain": [
       "<VegaLite 3 object>\n",
       "\n",
       "If you see this message, it means the renderer has not been properly enabled\n",
       "for the frontend that you are using. For more information, see\n",
       "https://altair-viz.github.io/user_guide/troubleshooting.html\n"
      ]
     },
     "execution_count": 86,
     "metadata": {},
     "output_type": "execute_result"
    }
   ],
   "source": [
    "# Barplot showing frequency of different races by income level \n",
    "p6 = alt.Chart(X_train).mark_bar().encode(\n",
    "    alt.X('race:O', title=None),\n",
    "    alt.Y('count()', title='Counts'),\n",
    "    facet='target:N'\n",
    ").properties(\n",
    "    title='Frequency of race by income level',\n",
    "    width=300,\n",
    "    height=200\n",
    ")\n",
    "p6"
   ]
  },
  {
   "cell_type": "code",
   "execution_count": 87,
   "metadata": {},
   "outputs": [
    {
     "data": {
      "application/vnd.vegalite.v3+json": {
       "$schema": "https://vega.github.io/schema/vega-lite/v3.4.0.json",
       "config": {
        "mark": {
         "tooltip": null
        },
        "view": {
         "height": 300,
         "width": 400
        }
       },
       "data": {
        "format": {
         "type": "json"
        },
        "url": "altair-data-40761032f0f14a89f55e98fd2b46e664.json"
       },
       "encoding": {
        "facet": {
         "field": "target",
         "type": "nominal"
        },
        "x": {
         "field": "marital_status",
         "title": null,
         "type": "ordinal"
        },
        "y": {
         "aggregate": "count",
         "title": "Counts",
         "type": "quantitative"
        }
       },
       "height": 200,
       "mark": "bar",
       "title": "Frequency of marital status by income level",
       "width": 400
      },
      "image/png": "[encoded data removed]",
      "text/plain": [
       "<VegaLite 3 object>\n",
       "\n",
       "If you see this message, it means the renderer has not been properly enabled\n",
       "for the frontend that you are using. For more information, see\n",
       "https://altair-viz.github.io/user_guide/troubleshooting.html\n"
      ]
     },
     "execution_count": 87,
     "metadata": {},
     "output_type": "execute_result"
    }
   ],
   "source": [
    "# Barplot showing frequency of different marital statuses by income level \n",
    "p7 = alt.Chart(X_train).mark_bar().encode(\n",
    "    alt.X('marital_status:O', title=None),\n",
    "    alt.Y('count()', title='Counts'),\n",
    "    facet='target:N'\n",
    ").properties(\n",
    "    title='Frequency of marital status by income level',\n",
    "    width=400,\n",
    "    height=200\n",
    ")\n",
    "p7"
   ]
  },
  {
   "cell_type": "code",
   "execution_count": 88,
   "metadata": {},
   "outputs": [
    {
     "data": {
      "application/vnd.vegalite.v3+json": {
       "$schema": "https://vega.github.io/schema/vega-lite/v3.4.0.json",
       "config": {
        "mark": {
         "tooltip": null
        },
        "view": {
         "height": 300,
         "width": 400
        }
       },
       "data": {
        "format": {
         "type": "json"
        },
        "url": "altair-data-40761032f0f14a89f55e98fd2b46e664.json"
       },
       "encoding": {
        "facet": {
         "field": "target",
         "type": "nominal"
        },
        "x": {
         "field": "occupation",
         "title": null,
         "type": "ordinal"
        },
        "y": {
         "aggregate": "count",
         "title": "Counts",
         "type": "quantitative"
        }
       },
       "height": 200,
       "mark": "bar",
       "title": "Frequency of occupation by income level",
       "width": 400
      },
      "image/png": "[encoded data removed]",
      "text/plain": [
       "<VegaLite 3 object>\n",
       "\n",
       "If you see this message, it means the renderer has not been properly enabled\n",
       "for the frontend that you are using. For more information, see\n",
       "https://altair-viz.github.io/user_guide/troubleshooting.html\n"
      ]
     },
     "execution_count": 88,
     "metadata": {},
     "output_type": "execute_result"
    }
   ],
   "source": [
    "# Barplot showing frequency of occupation by income level \n",
    "p8 = alt.Chart(X_train).mark_bar().encode(\n",
    "    alt.X('occupation:O', title=None),\n",
    "    alt.Y('count()', title='Counts'),\n",
    "    facet='target:N'\n",
    ").properties(\n",
    "    title='Frequency of occupation by income level',\n",
    "    width=400,\n",
    "    height=200\n",
    ")\n",
    "p8"
   ]
  },
  {
   "cell_type": "markdown",
   "metadata": {},
   "source": [
    "## Further observations \n",
    "- Median age of the high income class (>50K) is higher than that of the low income class (<=50K) for both sexes. This is unsurprising as income tends to increase with age.  \n",
    "- Almost every individual in the high income class received more than 9 years of education.\n",
    "- Across both income classes, a 40-hour workweek occurs most frequently.\n",
    "- With respect to capital gain and loss, in both income groups, individuals are either at the low end or high end - observations are polarized. This probably explains our observations from calling the `describe` function earlier.\n",
    "- Across both income classes, `White` is the racial majority, followed by `Black`.\n",
    "- In the low income class, the most frequently occurring marital status is `Never-married` followed by`Married-civ-spouse` and `Divorced`. On the other hand, the high income class is dominated by `Married` individuals. Moreover, relatively speaking, there is a smaller number of `Divorced` individuals in the high income class.\n",
    "- `Exec-managerial` is the most frequently occurring occupation followed by `Prof-speciality` in the high income class."
   ]
  }
 ],
 "metadata": {
  "kernelspec": {
   "display_name": "Python 3",
   "language": "python",
   "name": "python3"
  },
  "language_info": {
   "codemirror_mode": {
    "name": "ipython",
    "version": 3
   },
   "file_extension": ".py",
   "mimetype": "text/x-python",
   "name": "python",
   "nbconvert_exporter": "python",
   "pygments_lexer": "ipython3",
   "version": "3.7.3"
  }
 },
 "nbformat": 4,
 "nbformat_minor": 4
}
