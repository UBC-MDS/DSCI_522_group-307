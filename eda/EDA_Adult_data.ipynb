{
 "cells": [
  {
   "cell_type": "code",
   "execution_count": 73,
   "metadata": {},
   "outputs": [
    {
     "data": {
      "text/plain": [
       "RendererRegistry.enable('notebook')"
      ]
     },
     "execution_count": 73,
     "metadata": {},
     "output_type": "execute_result"
    }
   ],
   "source": [
    "import pandas as pd\n",
    "import numpy as np\n",
    "import matplotlib as plt\n",
    "import altair as alt\n",
    "alt.data_transformers.enable('json')\n",
    "alt.renderers.enable('notebook')"
   ]
  },
  {
   "cell_type": "markdown",
   "metadata": {},
   "source": [
    "## Load Dataset"
   ]
  },
  {
   "cell_type": "code",
   "execution_count": 3,
   "metadata": {},
   "outputs": [
    {
     "data": {
      "text/html": [
       "<div>\n",
       "<style scoped>\n",
       "    .dataframe tbody tr th:only-of-type {\n",
       "        vertical-align: middle;\n",
       "    }\n",
       "\n",
       "    .dataframe tbody tr th {\n",
       "        vertical-align: top;\n",
       "    }\n",
       "\n",
       "    .dataframe thead th {\n",
       "        text-align: right;\n",
       "    }\n",
       "</style>\n",
       "<table border=\"1\" class=\"dataframe\">\n",
       "  <thead>\n",
       "    <tr style=\"text-align: right;\">\n",
       "      <th></th>\n",
       "      <th>age</th>\n",
       "      <th>workclass</th>\n",
       "      <th>fnlwgt</th>\n",
       "      <th>education</th>\n",
       "      <th>education-num</th>\n",
       "      <th>marital-status</th>\n",
       "      <th>occupation</th>\n",
       "      <th>relationship</th>\n",
       "      <th>race</th>\n",
       "      <th>sex</th>\n",
       "      <th>capital-gain</th>\n",
       "      <th>capital-loss</th>\n",
       "      <th>hours-per-week</th>\n",
       "      <th>native-country</th>\n",
       "      <th>target</th>\n",
       "    </tr>\n",
       "  </thead>\n",
       "  <tbody>\n",
       "    <tr>\n",
       "      <th>0</th>\n",
       "      <td>35</td>\n",
       "      <td>Private</td>\n",
       "      <td>204621</td>\n",
       "      <td>Assoc-acdm</td>\n",
       "      <td>12</td>\n",
       "      <td>Divorced</td>\n",
       "      <td>Other-service</td>\n",
       "      <td>Own-child</td>\n",
       "      <td>White</td>\n",
       "      <td>Female</td>\n",
       "      <td>0</td>\n",
       "      <td>0</td>\n",
       "      <td>40</td>\n",
       "      <td>United-States</td>\n",
       "      <td>&lt;=50K</td>\n",
       "    </tr>\n",
       "    <tr>\n",
       "      <th>1</th>\n",
       "      <td>36</td>\n",
       "      <td>Private</td>\n",
       "      <td>250807</td>\n",
       "      <td>11th</td>\n",
       "      <td>7</td>\n",
       "      <td>Never-married</td>\n",
       "      <td>Craft-repair</td>\n",
       "      <td>Not-in-family</td>\n",
       "      <td>Black</td>\n",
       "      <td>Female</td>\n",
       "      <td>0</td>\n",
       "      <td>0</td>\n",
       "      <td>40</td>\n",
       "      <td>United-States</td>\n",
       "      <td>&lt;=50K</td>\n",
       "    </tr>\n",
       "    <tr>\n",
       "      <th>2</th>\n",
       "      <td>21</td>\n",
       "      <td>Private</td>\n",
       "      <td>273403</td>\n",
       "      <td>Assoc-voc</td>\n",
       "      <td>11</td>\n",
       "      <td>Never-married</td>\n",
       "      <td>Other-service</td>\n",
       "      <td>Not-in-family</td>\n",
       "      <td>White</td>\n",
       "      <td>Female</td>\n",
       "      <td>0</td>\n",
       "      <td>0</td>\n",
       "      <td>50</td>\n",
       "      <td>United-States</td>\n",
       "      <td>&lt;=50K</td>\n",
       "    </tr>\n",
       "    <tr>\n",
       "      <th>3</th>\n",
       "      <td>56</td>\n",
       "      <td>Private</td>\n",
       "      <td>261232</td>\n",
       "      <td>HS-grad</td>\n",
       "      <td>9</td>\n",
       "      <td>Never-married</td>\n",
       "      <td>Craft-repair</td>\n",
       "      <td>Not-in-family</td>\n",
       "      <td>White</td>\n",
       "      <td>Male</td>\n",
       "      <td>0</td>\n",
       "      <td>0</td>\n",
       "      <td>40</td>\n",
       "      <td>United-States</td>\n",
       "      <td>&lt;=50K</td>\n",
       "    </tr>\n",
       "    <tr>\n",
       "      <th>4</th>\n",
       "      <td>20</td>\n",
       "      <td>Private</td>\n",
       "      <td>33644</td>\n",
       "      <td>HS-grad</td>\n",
       "      <td>9</td>\n",
       "      <td>Never-married</td>\n",
       "      <td>Adm-clerical</td>\n",
       "      <td>Own-child</td>\n",
       "      <td>White</td>\n",
       "      <td>Female</td>\n",
       "      <td>0</td>\n",
       "      <td>0</td>\n",
       "      <td>30</td>\n",
       "      <td>United-States</td>\n",
       "      <td>&lt;=50K</td>\n",
       "    </tr>\n",
       "  </tbody>\n",
       "</table>\n",
       "</div>"
      ],
      "text/plain": [
       "   age workclass  fnlwgt    education  education-num  marital-status  \\\n",
       "0   35   Private  204621   Assoc-acdm             12        Divorced   \n",
       "1   36   Private  250807         11th              7   Never-married   \n",
       "2   21   Private  273403    Assoc-voc             11   Never-married   \n",
       "3   56   Private  261232      HS-grad              9   Never-married   \n",
       "4   20   Private   33644      HS-grad              9   Never-married   \n",
       "\n",
       "       occupation    relationship    race      sex  capital-gain  \\\n",
       "0   Other-service       Own-child   White   Female             0   \n",
       "1    Craft-repair   Not-in-family   Black   Female             0   \n",
       "2   Other-service   Not-in-family   White   Female             0   \n",
       "3    Craft-repair   Not-in-family   White     Male             0   \n",
       "4    Adm-clerical       Own-child   White   Female             0   \n",
       "\n",
       "   capital-loss  hours-per-week  native-country  target  \n",
       "0             0              40   United-States   <=50K  \n",
       "1             0              40   United-States   <=50K  \n",
       "2             0              50   United-States   <=50K  \n",
       "3             0              40   United-States   <=50K  \n",
       "4             0              30   United-States   <=50K  "
      ]
     },
     "execution_count": 3,
     "metadata": {},
     "output_type": "execute_result"
    }
   ],
   "source": [
    "\n",
    "X_train = pd.read_csv('../data/train.csv')\n",
    "X_train.head()"
   ]
  },
  {
   "cell_type": "code",
   "execution_count": 6,
   "metadata": {},
   "outputs": [],
   "source": [
    "X_train.columns = X_train.columns.str.replace('-', '_') \n",
    "\n",
    "numerical = ['age','fnlwgt','education_num','capital_gain','capital_loss','hours_per_week']\n",
    "categorical = ['workclass','education','marital_status','occupation','relationship','race','sex','native_country','target']\n",
    "\n",
    "# Getting rid of blanks at the start of categorical features\n",
    "X_train[categorical] = X_train[categorical].apply(lambda x: x.str.strip())"
   ]
  },
  {
   "cell_type": "markdown",
   "metadata": {},
   "source": [
    "## Exploring data"
   ]
  },
  {
   "cell_type": "code",
   "execution_count": 8,
   "metadata": {},
   "outputs": [
    {
     "data": {
      "text/html": [
       "<div>\n",
       "<style scoped>\n",
       "    .dataframe tbody tr th:only-of-type {\n",
       "        vertical-align: middle;\n",
       "    }\n",
       "\n",
       "    .dataframe tbody tr th {\n",
       "        vertical-align: top;\n",
       "    }\n",
       "\n",
       "    .dataframe thead th {\n",
       "        text-align: right;\n",
       "    }\n",
       "</style>\n",
       "<table border=\"1\" class=\"dataframe\">\n",
       "  <thead>\n",
       "    <tr style=\"text-align: right;\">\n",
       "      <th></th>\n",
       "      <th>age</th>\n",
       "      <th>fnlwgt</th>\n",
       "      <th>education_num</th>\n",
       "      <th>capital_gain</th>\n",
       "      <th>capital_loss</th>\n",
       "      <th>hours_per_week</th>\n",
       "    </tr>\n",
       "  </thead>\n",
       "  <tbody>\n",
       "    <tr>\n",
       "      <th>count</th>\n",
       "      <td>26048.000000</td>\n",
       "      <td>2.604800e+04</td>\n",
       "      <td>26048.000000</td>\n",
       "      <td>26048.000000</td>\n",
       "      <td>26048.000000</td>\n",
       "      <td>26048.000000</td>\n",
       "    </tr>\n",
       "    <tr>\n",
       "      <th>mean</th>\n",
       "      <td>38.545416</td>\n",
       "      <td>1.898294e+05</td>\n",
       "      <td>10.077242</td>\n",
       "      <td>1039.185772</td>\n",
       "      <td>87.548718</td>\n",
       "      <td>40.386248</td>\n",
       "    </tr>\n",
       "    <tr>\n",
       "      <th>std</th>\n",
       "      <td>13.666343</td>\n",
       "      <td>1.056574e+05</td>\n",
       "      <td>2.573230</td>\n",
       "      <td>7167.150640</td>\n",
       "      <td>403.647262</td>\n",
       "      <td>12.395259</td>\n",
       "    </tr>\n",
       "    <tr>\n",
       "      <th>min</th>\n",
       "      <td>17.000000</td>\n",
       "      <td>1.228500e+04</td>\n",
       "      <td>1.000000</td>\n",
       "      <td>0.000000</td>\n",
       "      <td>0.000000</td>\n",
       "      <td>1.000000</td>\n",
       "    </tr>\n",
       "    <tr>\n",
       "      <th>25%</th>\n",
       "      <td>28.000000</td>\n",
       "      <td>1.179630e+05</td>\n",
       "      <td>9.000000</td>\n",
       "      <td>0.000000</td>\n",
       "      <td>0.000000</td>\n",
       "      <td>40.000000</td>\n",
       "    </tr>\n",
       "    <tr>\n",
       "      <th>50%</th>\n",
       "      <td>37.000000</td>\n",
       "      <td>1.783530e+05</td>\n",
       "      <td>10.000000</td>\n",
       "      <td>0.000000</td>\n",
       "      <td>0.000000</td>\n",
       "      <td>40.000000</td>\n",
       "    </tr>\n",
       "    <tr>\n",
       "      <th>75%</th>\n",
       "      <td>48.000000</td>\n",
       "      <td>2.369922e+05</td>\n",
       "      <td>12.000000</td>\n",
       "      <td>0.000000</td>\n",
       "      <td>0.000000</td>\n",
       "      <td>45.000000</td>\n",
       "    </tr>\n",
       "    <tr>\n",
       "      <th>max</th>\n",
       "      <td>90.000000</td>\n",
       "      <td>1.484705e+06</td>\n",
       "      <td>16.000000</td>\n",
       "      <td>99999.000000</td>\n",
       "      <td>4356.000000</td>\n",
       "      <td>99.000000</td>\n",
       "    </tr>\n",
       "  </tbody>\n",
       "</table>\n",
       "</div>"
      ],
      "text/plain": [
       "                age        fnlwgt  education_num  capital_gain  capital_loss  \\\n",
       "count  26048.000000  2.604800e+04   26048.000000  26048.000000  26048.000000   \n",
       "mean      38.545416  1.898294e+05      10.077242   1039.185772     87.548718   \n",
       "std       13.666343  1.056574e+05       2.573230   7167.150640    403.647262   \n",
       "min       17.000000  1.228500e+04       1.000000      0.000000      0.000000   \n",
       "25%       28.000000  1.179630e+05       9.000000      0.000000      0.000000   \n",
       "50%       37.000000  1.783530e+05      10.000000      0.000000      0.000000   \n",
       "75%       48.000000  2.369922e+05      12.000000      0.000000      0.000000   \n",
       "max       90.000000  1.484705e+06      16.000000  99999.000000   4356.000000   \n",
       "\n",
       "       hours_per_week  \n",
       "count    26048.000000  \n",
       "mean        40.386248  \n",
       "std         12.395259  \n",
       "min          1.000000  \n",
       "25%         40.000000  \n",
       "50%         40.000000  \n",
       "75%         45.000000  \n",
       "max         99.000000  "
      ]
     },
     "execution_count": 8,
     "metadata": {},
     "output_type": "execute_result"
    }
   ],
   "source": [
    "X_train.describe()"
   ]
  },
  {
   "cell_type": "code",
   "execution_count": 9,
   "metadata": {},
   "outputs": [
    {
     "name": "stdout",
     "output_type": "stream",
     "text": [
      "The number of Workclasses are : 9\n",
      "The Workclasses are :\n",
      " ['Private' 'Self-emp-inc' 'Local-gov' 'Self-emp-not-inc' '?' 'State-gov'\n",
      " 'Federal-gov' 'Without-pay' 'Never-worked']\n"
     ]
    }
   ],
   "source": [
    "print(\"The number of Workclasses are : {0}\".format(X_train['workclass'].unique().shape[0]))\n",
    "print(\"The Workclasses are :\\n {0}\".format(X_train['workclass'].unique()))"
   ]
  },
  {
   "cell_type": "code",
   "execution_count": 10,
   "metadata": {
    "scrolled": true
   },
   "outputs": [
    {
     "name": "stdout",
     "output_type": "stream",
     "text": [
      "The number of classes of Education are : 16\n",
      "The classes of Education are :\n",
      " ['Assoc-acdm' '11th' 'Assoc-voc' 'HS-grad' '12th' 'Some-college'\n",
      " 'Bachelors' 'Masters' 'Doctorate' '7th-8th' '1st-4th' 'Prof-school'\n",
      " '10th' '9th' '5th-6th' 'Preschool']\n"
     ]
    }
   ],
   "source": [
    "print(\"The number of classes of Education are : {0}\".format(X_train['education'].unique().shape[0]))\n",
    "print(\"The classes of Education are :\\n {0}\".format(X_train['education'].unique()))"
   ]
  },
  {
   "cell_type": "code",
   "execution_count": 11,
   "metadata": {},
   "outputs": [
    {
     "name": "stdout",
     "output_type": "stream",
     "text": [
      "The number of classes of marital_status are : 7\n",
      "The classes of marital_status are :\n",
      " ['Divorced' 'Never-married' 'Widowed' 'Married-civ-spouse' 'Separated'\n",
      " 'Married-spouse-absent' 'Married-AF-spouse']\n"
     ]
    }
   ],
   "source": [
    "print(\"The number of classes of marital_status are : {0}\".format(X_train['marital_status'].unique().shape[0]))\n",
    "print(\"The classes of marital_status are :\\n {0}\".format(X_train['marital_status'].unique()))\n"
   ]
  },
  {
   "cell_type": "code",
   "execution_count": 12,
   "metadata": {},
   "outputs": [
    {
     "name": "stdout",
     "output_type": "stream",
     "text": [
      "The number of classes of occupation are : 15\n",
      "The classes of occupation are :\n",
      " ['Other-service' 'Craft-repair' 'Adm-clerical' 'Exec-managerial' 'Sales'\n",
      " 'Protective-serv' 'Prof-specialty' '?' 'Farming-fishing'\n",
      " 'Transport-moving' 'Handlers-cleaners' 'Machine-op-inspct' 'Tech-support'\n",
      " 'Priv-house-serv' 'Armed-Forces']\n"
     ]
    }
   ],
   "source": [
    "print(\"The number of classes of occupation are : {0}\".format(X_train['occupation'].unique().shape[0]))\n",
    "print(\"The classes of occupation are :\\n {0}\".format(X_train['occupation'].unique()))\n"
   ]
  },
  {
   "cell_type": "code",
   "execution_count": 13,
   "metadata": {},
   "outputs": [
    {
     "name": "stdout",
     "output_type": "stream",
     "text": [
      "The number of classes of relationship are : 6\n",
      "The classes of relationship are :\n",
      " ['Own-child' 'Not-in-family' 'Unmarried' 'Husband' 'Wife' 'Other-relative']\n"
     ]
    }
   ],
   "source": [
    "print(\"The number of classes of relationship are : {0}\".format(X_train['relationship'].unique().shape[0]))\n",
    "print(\"The classes of relationship are :\\n {0}\".format(X_train['relationship'].unique()))\n"
   ]
  },
  {
   "cell_type": "code",
   "execution_count": 14,
   "metadata": {},
   "outputs": [
    {
     "name": "stdout",
     "output_type": "stream",
     "text": [
      "The number of classes of race are : 5\n",
      "The classes of race are :\n",
      " ['White' 'Black' 'Other' 'Asian-Pac-Islander' 'Amer-Indian-Eskimo']\n"
     ]
    }
   ],
   "source": [
    "print(\"The number of classes of race are : {0}\".format(X_train['race'].unique().shape[0]))\n",
    "print(\"The classes of race are :\\n {0}\".format(X_train['race'].unique()))\n"
   ]
  },
  {
   "cell_type": "code",
   "execution_count": 15,
   "metadata": {},
   "outputs": [
    {
     "name": "stdout",
     "output_type": "stream",
     "text": [
      "The number of classes of sex are : 2\n",
      "The classes of sex are :\n",
      " ['Female' 'Male']\n"
     ]
    }
   ],
   "source": [
    "print(\"The number of classes of sex are : {0}\".format(X_train['sex'].unique().shape[0]))\n",
    "print(\"The classes of sex are :\\n {0}\".format(X_train['sex'].unique()))\n"
   ]
  },
  {
   "cell_type": "code",
   "execution_count": 16,
   "metadata": {},
   "outputs": [
    {
     "name": "stdout",
     "output_type": "stream",
     "text": [
      "The number of classes of native_country are : 41\n",
      "The classes of native_country are :\n",
      " ['United-States' 'Poland' '?' 'Mexico' 'Canada' 'China' 'England' 'Haiti'\n",
      " 'Italy' 'Jamaica' 'Portugal' 'France' 'Philippines' 'India' 'Iran'\n",
      " 'Dominican-Republic' 'Puerto-Rico' 'Ireland' 'Scotland' 'Cuba' 'Thailand'\n",
      " 'Yugoslavia' 'South' 'Cambodia' 'Germany' 'Vietnam' 'Guatemala' 'Peru'\n",
      " 'Columbia' 'Japan' 'Ecuador' 'El-Salvador' 'Laos'\n",
      " 'Outlying-US(Guam-USVI-etc)' 'Nicaragua' 'Taiwan' 'Trinadad&Tobago'\n",
      " 'Greece' 'Honduras' 'Hong' 'Hungary']\n"
     ]
    }
   ],
   "source": [
    "print(\"The number of classes of native_country are : {0}\".format(X_train['native_country'].unique().shape[0]))\n",
    "print(\"The classes of native_country are :\\n {0}\".format(X_train['native_country'].unique()))\n"
   ]
  },
  {
   "cell_type": "code",
   "execution_count": 26,
   "metadata": {},
   "outputs": [
    {
     "name": "stdout",
     "output_type": "stream",
     "text": [
      "Number of observations with income Class >50K $ = 6270\n",
      "Number of observations with income Class <=50K $ = 19778\n"
     ]
    }
   ],
   "source": [
    "\n",
    "print(\"Number of observations with income Class >50K $ = {0}\".format(X_train['target'].value_counts()[1]))\n",
    "print(\"Number of observations with income Class <=50K $ = {0}\".format(X_train['target'].value_counts()[0]))"
   ]
  },
  {
   "cell_type": "markdown",
   "metadata": {},
   "source": [
    "## Observations\n",
    "\n",
    "1. Categorical variables - `native_country`, `occupation`, `workclass` having \"?\" in some places.\n",
    "2. Outliers present in numerical variables - `capital_gain`,`capital_loss`\n",
    "3. Target classes are not evenly distributed."
   ]
  },
  {
   "cell_type": "markdown",
   "metadata": {},
   "source": [
    "## Relation among different variables"
   ]
  },
  {
   "cell_type": "code",
   "execution_count": 28,
   "metadata": {},
   "outputs": [
    {
     "data": {
      "text/html": [
       "<div>\n",
       "<style scoped>\n",
       "    .dataframe tbody tr th:only-of-type {\n",
       "        vertical-align: middle;\n",
       "    }\n",
       "\n",
       "    .dataframe tbody tr th {\n",
       "        vertical-align: top;\n",
       "    }\n",
       "\n",
       "    .dataframe thead th {\n",
       "        text-align: right;\n",
       "    }\n",
       "</style>\n",
       "<table border=\"1\" class=\"dataframe\">\n",
       "  <thead>\n",
       "    <tr style=\"text-align: right;\">\n",
       "      <th></th>\n",
       "      <th>age</th>\n",
       "      <th>workclass</th>\n",
       "      <th>fnlwgt</th>\n",
       "      <th>education</th>\n",
       "      <th>education_num</th>\n",
       "      <th>marital_status</th>\n",
       "      <th>occupation</th>\n",
       "      <th>relationship</th>\n",
       "      <th>race</th>\n",
       "      <th>sex</th>\n",
       "      <th>capital_gain</th>\n",
       "      <th>capital_loss</th>\n",
       "      <th>hours_per_week</th>\n",
       "      <th>native_country</th>\n",
       "      <th>target</th>\n",
       "    </tr>\n",
       "  </thead>\n",
       "  <tbody>\n",
       "    <tr>\n",
       "      <th>0</th>\n",
       "      <td>35</td>\n",
       "      <td>Private</td>\n",
       "      <td>204621</td>\n",
       "      <td>Assoc-acdm</td>\n",
       "      <td>12</td>\n",
       "      <td>Divorced</td>\n",
       "      <td>Other-service</td>\n",
       "      <td>Own-child</td>\n",
       "      <td>White</td>\n",
       "      <td>Female</td>\n",
       "      <td>0</td>\n",
       "      <td>0</td>\n",
       "      <td>40</td>\n",
       "      <td>United-States</td>\n",
       "      <td>&lt;=50K</td>\n",
       "    </tr>\n",
       "    <tr>\n",
       "      <th>1</th>\n",
       "      <td>36</td>\n",
       "      <td>Private</td>\n",
       "      <td>250807</td>\n",
       "      <td>11th</td>\n",
       "      <td>7</td>\n",
       "      <td>Never-married</td>\n",
       "      <td>Craft-repair</td>\n",
       "      <td>Not-in-family</td>\n",
       "      <td>Black</td>\n",
       "      <td>Female</td>\n",
       "      <td>0</td>\n",
       "      <td>0</td>\n",
       "      <td>40</td>\n",
       "      <td>United-States</td>\n",
       "      <td>&lt;=50K</td>\n",
       "    </tr>\n",
       "    <tr>\n",
       "      <th>2</th>\n",
       "      <td>21</td>\n",
       "      <td>Private</td>\n",
       "      <td>273403</td>\n",
       "      <td>Assoc-voc</td>\n",
       "      <td>11</td>\n",
       "      <td>Never-married</td>\n",
       "      <td>Other-service</td>\n",
       "      <td>Not-in-family</td>\n",
       "      <td>White</td>\n",
       "      <td>Female</td>\n",
       "      <td>0</td>\n",
       "      <td>0</td>\n",
       "      <td>50</td>\n",
       "      <td>United-States</td>\n",
       "      <td>&lt;=50K</td>\n",
       "    </tr>\n",
       "    <tr>\n",
       "      <th>3</th>\n",
       "      <td>56</td>\n",
       "      <td>Private</td>\n",
       "      <td>261232</td>\n",
       "      <td>HS-grad</td>\n",
       "      <td>9</td>\n",
       "      <td>Never-married</td>\n",
       "      <td>Craft-repair</td>\n",
       "      <td>Not-in-family</td>\n",
       "      <td>White</td>\n",
       "      <td>Male</td>\n",
       "      <td>0</td>\n",
       "      <td>0</td>\n",
       "      <td>40</td>\n",
       "      <td>United-States</td>\n",
       "      <td>&lt;=50K</td>\n",
       "    </tr>\n",
       "    <tr>\n",
       "      <th>4</th>\n",
       "      <td>20</td>\n",
       "      <td>Private</td>\n",
       "      <td>33644</td>\n",
       "      <td>HS-grad</td>\n",
       "      <td>9</td>\n",
       "      <td>Never-married</td>\n",
       "      <td>Adm-clerical</td>\n",
       "      <td>Own-child</td>\n",
       "      <td>White</td>\n",
       "      <td>Female</td>\n",
       "      <td>0</td>\n",
       "      <td>0</td>\n",
       "      <td>30</td>\n",
       "      <td>United-States</td>\n",
       "      <td>&lt;=50K</td>\n",
       "    </tr>\n",
       "  </tbody>\n",
       "</table>\n",
       "</div>"
      ],
      "text/plain": [
       "   age workclass  fnlwgt   education  education_num marital_status  \\\n",
       "0   35   Private  204621  Assoc-acdm             12       Divorced   \n",
       "1   36   Private  250807        11th              7  Never-married   \n",
       "2   21   Private  273403   Assoc-voc             11  Never-married   \n",
       "3   56   Private  261232     HS-grad              9  Never-married   \n",
       "4   20   Private   33644     HS-grad              9  Never-married   \n",
       "\n",
       "      occupation   relationship   race     sex  capital_gain  capital_loss  \\\n",
       "0  Other-service      Own-child  White  Female             0             0   \n",
       "1   Craft-repair  Not-in-family  Black  Female             0             0   \n",
       "2  Other-service  Not-in-family  White  Female             0             0   \n",
       "3   Craft-repair  Not-in-family  White    Male             0             0   \n",
       "4   Adm-clerical      Own-child  White  Female             0             0   \n",
       "\n",
       "   hours_per_week native_country target  \n",
       "0              40  United-States  <=50K  \n",
       "1              40  United-States  <=50K  \n",
       "2              50  United-States  <=50K  \n",
       "3              40  United-States  <=50K  \n",
       "4              30  United-States  <=50K  "
      ]
     },
     "execution_count": 28,
     "metadata": {},
     "output_type": "execute_result"
    }
   ],
   "source": [
    "X_train.head()"
   ]
  },
  {
   "cell_type": "code",
   "execution_count": 74,
   "metadata": {},
   "outputs": [
    {
     "data": {
      "application/javascript": [
       "const spec = {\"config\": {\"view\": {\"width\": 400, \"height\": 300}, \"mark\": {\"tooltip\": null}}, \"data\": {\"url\": \"altair-data-40761032f0f14a89f55e98fd2b46e664.json\", \"format\": {\"type\": \"json\"}}, \"mark\": {\"type\": \"boxplot\", \"color\": \"lightblue\"}, \"encoding\": {\"facet\": {\"type\": \"nominal\", \"field\": \"sex\"}, \"x\": {\"type\": \"ordinal\", \"field\": \"target\", \"title\": \"Income class\"}, \"y\": {\"type\": \"quantitative\", \"field\": \"age\", \"title\": \"Age(years)\"}}, \"height\": 200, \"title\": \"Variation of Age with Income classes\", \"width\": 400, \"$schema\": \"https://vega.github.io/schema/vega-lite/v3.4.0.json\"};\n",
       "const opt = {};\n",
       "const type = \"vega-lite\";\n",
       "const id = \"42caff4b-ae57-4efe-958f-4af671726a07\";\n",
       "\n",
       "const output_area = this;\n",
       "\n",
       "require([\"nbextensions/jupyter-vega/index\"], function(vega) {\n",
       "  const target = document.createElement(\"div\");\n",
       "  target.id = id;\n",
       "  target.className = \"vega-embed\";\n",
       "\n",
       "  const style = document.createElement(\"style\");\n",
       "  style.textContent = [\n",
       "    \".vega-embed .error p {\",\n",
       "    \"  color: firebrick;\",\n",
       "    \"  font-size: 14px;\",\n",
       "    \"}\",\n",
       "  ].join(\"\\\\n\");\n",
       "\n",
       "  // element is a jQuery wrapped DOM element inside the output area\n",
       "  // see http://ipython.readthedocs.io/en/stable/api/generated/\\\n",
       "  // IPython.display.html#IPython.display.Javascript.__init__\n",
       "  element[0].appendChild(target);\n",
       "  element[0].appendChild(style);\n",
       "\n",
       "  vega.render(\"#\" + id, spec, type, opt, output_area);\n",
       "}, function (err) {\n",
       "  if (err.requireType !== \"scripterror\") {\n",
       "    throw(err);\n",
       "  }\n",
       "});\n"
      ],
      "text/plain": [
       "<vega.vegalite.VegaLite at 0x20415ad79e8>"
      ]
     },
     "metadata": {
      "jupyter-vega": "#42caff4b-ae57-4efe-958f-4af671726a07"
     },
     "output_type": "display_data"
    },
    {
     "data": {
      "text/plain": []
     },
     "execution_count": 74,
     "metadata": {},
     "output_type": "execute_result"
    },
    {
     "data": {
      "image/png": "[encoded data removed]"
     },
     "metadata": {
      "jupyter-vega": "#42caff4b-ae57-4efe-958f-4af671726a07"
     },
     "output_type": "display_data"
    }
   ],
   "source": [
    "alt.data_transformers.disable_max_rows()\n",
    "\n",
    "p1 = alt.Chart(X_train).mark_boxplot(color = \"lightblue\").encode(\n",
    "    alt.X('target:O', title = \"Income class\"),\n",
    "    alt.Y('age:Q', title = \"Age(years)\"),\n",
    "    facet = 'sex:N'\n",
    ").properties(\n",
    "    title = \"Variation of Age with Income classes\",\n",
    "    width = 400,\n",
    "    height = 200\n",
    ")\n",
    "p1"
   ]
  },
  {
   "cell_type": "code",
   "execution_count": 75,
   "metadata": {},
   "outputs": [
    {
     "data": {
      "application/javascript": [
       "const spec = {\"config\": {\"view\": {\"width\": 400, \"height\": 300}, \"mark\": {\"tooltip\": null}}, \"data\": {\"url\": \"altair-data-40761032f0f14a89f55e98fd2b46e664.json\", \"format\": {\"type\": \"json\"}}, \"mark\": \"bar\", \"encoding\": {\"facet\": {\"type\": \"nominal\", \"field\": \"sex\"}, \"x\": {\"type\": \"quantitative\", \"bin\": {\"step\": 2}, \"field\": \"education_num\", \"title\": \"Education years\"}, \"y\": {\"type\": \"quantitative\", \"aggregate\": \"count\", \"title\": \"Counts\"}}, \"height\": 200, \"title\": \"Variation of Education\", \"width\": 400, \"$schema\": \"https://vega.github.io/schema/vega-lite/v3.4.0.json\"};\n",
       "const opt = {};\n",
       "const type = \"vega-lite\";\n",
       "const id = \"42657f52-6695-4839-9e44-ee53e81256d7\";\n",
       "\n",
       "const output_area = this;\n",
       "\n",
       "require([\"nbextensions/jupyter-vega/index\"], function(vega) {\n",
       "  const target = document.createElement(\"div\");\n",
       "  target.id = id;\n",
       "  target.className = \"vega-embed\";\n",
       "\n",
       "  const style = document.createElement(\"style\");\n",
       "  style.textContent = [\n",
       "    \".vega-embed .error p {\",\n",
       "    \"  color: firebrick;\",\n",
       "    \"  font-size: 14px;\",\n",
       "    \"}\",\n",
       "  ].join(\"\\\\n\");\n",
       "\n",
       "  // element is a jQuery wrapped DOM element inside the output area\n",
       "  // see http://ipython.readthedocs.io/en/stable/api/generated/\\\n",
       "  // IPython.display.html#IPython.display.Javascript.__init__\n",
       "  element[0].appendChild(target);\n",
       "  element[0].appendChild(style);\n",
       "\n",
       "  vega.render(\"#\" + id, spec, type, opt, output_area);\n",
       "}, function (err) {\n",
       "  if (err.requireType !== \"scripterror\") {\n",
       "    throw(err);\n",
       "  }\n",
       "});\n"
      ],
      "text/plain": [
       "<vega.vegalite.VegaLite at 0x20414c8a6a0>"
      ]
     },
     "metadata": {
      "jupyter-vega": "#42657f52-6695-4839-9e44-ee53e81256d7"
     },
     "output_type": "display_data"
    },
    {
     "data": {
      "text/plain": []
     },
     "execution_count": 75,
     "metadata": {},
     "output_type": "execute_result"
    },
    {
     "data": {
      "image/png": "[encoded data removed]"
     },
     "metadata": {
      "jupyter-vega": "#42657f52-6695-4839-9e44-ee53e81256d7"
     },
     "output_type": "display_data"
    }
   ],
   "source": [
    "\n",
    "p2 = alt.Chart(X_train).mark_bar().encode(\n",
    "    alt.X('education_num:Q', bin=alt.Bin(step=2), title = \"Education years\"),\n",
    "    alt.Y('count()', title = \"Counts\"),\n",
    "    facet = 'sex:N'\n",
    ").properties(\n",
    "    title = \"Variation of Education\",\n",
    "    width = 400,\n",
    "    height = 200\n",
    ")\n",
    "p2"
   ]
  },
  {
   "cell_type": "code",
   "execution_count": 76,
   "metadata": {},
   "outputs": [
    {
     "data": {
      "application/javascript": [
       "const spec = {\"config\": {\"view\": {\"width\": 400, \"height\": 300}, \"mark\": {\"tooltip\": null}}, \"data\": {\"url\": \"altair-data-40761032f0f14a89f55e98fd2b46e664.json\", \"format\": {\"type\": \"json\"}}, \"mark\": \"bar\", \"encoding\": {\"facet\": {\"type\": \"nominal\", \"field\": \"sex\"}, \"x\": {\"type\": \"quantitative\", \"bin\": {\"step\": 2}, \"field\": \"hours_per_week\", \"title\": \"Work hours per week\"}, \"y\": {\"type\": \"quantitative\", \"aggregate\": \"count\", \"title\": \"Counts\"}}, \"height\": 200, \"title\": \"Variation of Work hours\", \"width\": 400, \"$schema\": \"https://vega.github.io/schema/vega-lite/v3.4.0.json\"};\n",
       "const opt = {};\n",
       "const type = \"vega-lite\";\n",
       "const id = \"096606f6-24d1-4009-8edd-83b5e365efb6\";\n",
       "\n",
       "const output_area = this;\n",
       "\n",
       "require([\"nbextensions/jupyter-vega/index\"], function(vega) {\n",
       "  const target = document.createElement(\"div\");\n",
       "  target.id = id;\n",
       "  target.className = \"vega-embed\";\n",
       "\n",
       "  const style = document.createElement(\"style\");\n",
       "  style.textContent = [\n",
       "    \".vega-embed .error p {\",\n",
       "    \"  color: firebrick;\",\n",
       "    \"  font-size: 14px;\",\n",
       "    \"}\",\n",
       "  ].join(\"\\\\n\");\n",
       "\n",
       "  // element is a jQuery wrapped DOM element inside the output area\n",
       "  // see http://ipython.readthedocs.io/en/stable/api/generated/\\\n",
       "  // IPython.display.html#IPython.display.Javascript.__init__\n",
       "  element[0].appendChild(target);\n",
       "  element[0].appendChild(style);\n",
       "\n",
       "  vega.render(\"#\" + id, spec, type, opt, output_area);\n",
       "}, function (err) {\n",
       "  if (err.requireType !== \"scripterror\") {\n",
       "    throw(err);\n",
       "  }\n",
       "});\n"
      ],
      "text/plain": [
       "<vega.vegalite.VegaLite at 0x20414c8ac88>"
      ]
     },
     "metadata": {
      "jupyter-vega": "#096606f6-24d1-4009-8edd-83b5e365efb6"
     },
     "output_type": "display_data"
    },
    {
     "data": {
      "text/plain": []
     },
     "execution_count": 76,
     "metadata": {},
     "output_type": "execute_result"
    },
    {
     "data": {
      "image/png": "[encoded data removed]"
     },
     "metadata": {
      "jupyter-vega": "#096606f6-24d1-4009-8edd-83b5e365efb6"
     },
     "output_type": "display_data"
    }
   ],
   "source": [
    "p3 = alt.Chart(X_train).mark_bar().encode(\n",
    "    alt.X('hours_per_week:Q', bin=alt.Bin(step=2), title = \"Work hours per week\"),\n",
    "    alt.Y('count()', title = \"Counts\"),\n",
    "    facet = 'sex:N'\n",
    ").properties(\n",
    "    title = \"Variation of Work hours\",\n",
    "    width = 400,\n",
    "    height = 200\n",
    ")\n",
    "p3"
   ]
  },
  {
   "cell_type": "code",
   "execution_count": 77,
   "metadata": {},
   "outputs": [
    {
     "data": {
      "application/javascript": [
       "const spec = {\"config\": {\"view\": {\"width\": 400, \"height\": 300}, \"mark\": {\"tooltip\": null}}, \"data\": {\"url\": \"altair-data-40761032f0f14a89f55e98fd2b46e664.json\", \"format\": {\"type\": \"json\"}}, \"mark\": \"bar\", \"encoding\": {\"facet\": {\"type\": \"nominal\", \"field\": \"target\"}, \"x\": {\"type\": \"quantitative\", \"bin\": {\"extent\": [0, 20000], \"step\": 500}, \"field\": \"capital_gain\", \"title\": \"Capital gain\"}, \"y\": {\"type\": \"quantitative\", \"aggregate\": \"count\", \"title\": \"Counts\"}}, \"height\": 150, \"title\": \"Variation of Capital gain\", \"width\": 400, \"$schema\": \"https://vega.github.io/schema/vega-lite/v3.4.0.json\"};\n",
       "const opt = {};\n",
       "const type = \"vega-lite\";\n",
       "const id = \"048760fc-a243-421b-8d25-8d89d2feaaa2\";\n",
       "\n",
       "const output_area = this;\n",
       "\n",
       "require([\"nbextensions/jupyter-vega/index\"], function(vega) {\n",
       "  const target = document.createElement(\"div\");\n",
       "  target.id = id;\n",
       "  target.className = \"vega-embed\";\n",
       "\n",
       "  const style = document.createElement(\"style\");\n",
       "  style.textContent = [\n",
       "    \".vega-embed .error p {\",\n",
       "    \"  color: firebrick;\",\n",
       "    \"  font-size: 14px;\",\n",
       "    \"}\",\n",
       "  ].join(\"\\\\n\");\n",
       "\n",
       "  // element is a jQuery wrapped DOM element inside the output area\n",
       "  // see http://ipython.readthedocs.io/en/stable/api/generated/\\\n",
       "  // IPython.display.html#IPython.display.Javascript.__init__\n",
       "  element[0].appendChild(target);\n",
       "  element[0].appendChild(style);\n",
       "\n",
       "  vega.render(\"#\" + id, spec, type, opt, output_area);\n",
       "}, function (err) {\n",
       "  if (err.requireType !== \"scripterror\") {\n",
       "    throw(err);\n",
       "  }\n",
       "});\n"
      ],
      "text/plain": [
       "<vega.vegalite.VegaLite at 0x204157a6a20>"
      ]
     },
     "metadata": {
      "jupyter-vega": "#048760fc-a243-421b-8d25-8d89d2feaaa2"
     },
     "output_type": "display_data"
    },
    {
     "data": {
      "text/plain": []
     },
     "execution_count": 77,
     "metadata": {},
     "output_type": "execute_result"
    },
    {
     "data": {
      "image/png": "[encoded data removed]"
     },
     "metadata": {
      "jupyter-vega": "#048760fc-a243-421b-8d25-8d89d2feaaa2"
     },
     "output_type": "display_data"
    }
   ],
   "source": [
    "\n",
    "p4 = alt.Chart(X_train).mark_bar().encode(\n",
    "    alt.X('capital_gain:Q', bin=alt.Bin(extent=[0, 20000], step=500), title = \"Capital gain\"),\n",
    "    alt.Y('count()', title = \"Counts\"),\n",
    "    facet = 'target:N'\n",
    ").properties(\n",
    "    title = \"Variation of Capital gain\",\n",
    "    width = 400,\n",
    "    height = 150\n",
    ")\n",
    "\n",
    "p5 = alt.Chart(X_train).mark_bar().encode(\n",
    "    alt.X('capital_loss:Q', bin=alt.Bin(extent=[0, 2500], step=100), title = \"Capital loss\"),\n",
    "    alt.Y('count()', title = \"Counts\"),\n",
    "    facet = 'target:N'\n",
    ").properties(\n",
    "    title = \"Variation of Capital loss\",\n",
    "    width = 400,\n",
    "    height = 150\n",
    ")\n",
    "\n",
    "p4"
   ]
  },
  {
   "cell_type": "code",
   "execution_count": 78,
   "metadata": {},
   "outputs": [
    {
     "data": {
      "application/javascript": [
       "const spec = {\"config\": {\"view\": {\"width\": 400, \"height\": 300}, \"mark\": {\"tooltip\": null}}, \"data\": {\"url\": \"altair-data-40761032f0f14a89f55e98fd2b46e664.json\", \"format\": {\"type\": \"json\"}}, \"mark\": \"bar\", \"encoding\": {\"facet\": {\"type\": \"nominal\", \"field\": \"target\"}, \"x\": {\"type\": \"quantitative\", \"bin\": {\"extent\": [0, 2500], \"step\": 100}, \"field\": \"capital_loss\", \"title\": \"Capital loss\"}, \"y\": {\"type\": \"quantitative\", \"aggregate\": \"count\", \"title\": \"Counts\"}}, \"height\": 150, \"title\": \"Variation of Capital loss\", \"width\": 400, \"$schema\": \"https://vega.github.io/schema/vega-lite/v3.4.0.json\"};\n",
       "const opt = {};\n",
       "const type = \"vega-lite\";\n",
       "const id = \"3bf3009c-13ba-409f-994a-6b22e3af7a5c\";\n",
       "\n",
       "const output_area = this;\n",
       "\n",
       "require([\"nbextensions/jupyter-vega/index\"], function(vega) {\n",
       "  const target = document.createElement(\"div\");\n",
       "  target.id = id;\n",
       "  target.className = \"vega-embed\";\n",
       "\n",
       "  const style = document.createElement(\"style\");\n",
       "  style.textContent = [\n",
       "    \".vega-embed .error p {\",\n",
       "    \"  color: firebrick;\",\n",
       "    \"  font-size: 14px;\",\n",
       "    \"}\",\n",
       "  ].join(\"\\\\n\");\n",
       "\n",
       "  // element is a jQuery wrapped DOM element inside the output area\n",
       "  // see http://ipython.readthedocs.io/en/stable/api/generated/\\\n",
       "  // IPython.display.html#IPython.display.Javascript.__init__\n",
       "  element[0].appendChild(target);\n",
       "  element[0].appendChild(style);\n",
       "\n",
       "  vega.render(\"#\" + id, spec, type, opt, output_area);\n",
       "}, function (err) {\n",
       "  if (err.requireType !== \"scripterror\") {\n",
       "    throw(err);\n",
       "  }\n",
       "});\n"
      ],
      "text/plain": [
       "<vega.vegalite.VegaLite at 0x20415769208>"
      ]
     },
     "metadata": {
      "jupyter-vega": "#3bf3009c-13ba-409f-994a-6b22e3af7a5c"
     },
     "output_type": "display_data"
    },
    {
     "data": {
      "text/plain": []
     },
     "execution_count": 78,
     "metadata": {},
     "output_type": "execute_result"
    },
    {
     "data": {
      "image/png": "[encoded data removed]"
     },
     "metadata": {
      "jupyter-vega": "#3bf3009c-13ba-409f-994a-6b22e3af7a5c"
     },
     "output_type": "display_data"
    }
   ],
   "source": [
    "p5"
   ]
  },
  {
   "cell_type": "code",
   "execution_count": 79,
   "metadata": {},
   "outputs": [
    {
     "data": {
      "application/javascript": [
       "const spec = {\"config\": {\"view\": {\"width\": 400, \"height\": 300}, \"mark\": {\"tooltip\": null}}, \"data\": {\"url\": \"altair-data-40761032f0f14a89f55e98fd2b46e664.json\", \"format\": {\"type\": \"json\"}}, \"mark\": \"bar\", \"encoding\": {\"facet\": {\"type\": \"nominal\", \"field\": \"target\"}, \"x\": {\"type\": \"ordinal\", \"field\": \"race\", \"title\": \"\"}, \"y\": {\"type\": \"quantitative\", \"aggregate\": \"count\", \"title\": \"Counts\"}}, \"height\": 200, \"title\": \"Variation of race\", \"width\": 300, \"$schema\": \"https://vega.github.io/schema/vega-lite/v3.4.0.json\"};\n",
       "const opt = {};\n",
       "const type = \"vega-lite\";\n",
       "const id = \"28c7de5f-493c-4ae6-9d0f-5057d471768d\";\n",
       "\n",
       "const output_area = this;\n",
       "\n",
       "require([\"nbextensions/jupyter-vega/index\"], function(vega) {\n",
       "  const target = document.createElement(\"div\");\n",
       "  target.id = id;\n",
       "  target.className = \"vega-embed\";\n",
       "\n",
       "  const style = document.createElement(\"style\");\n",
       "  style.textContent = [\n",
       "    \".vega-embed .error p {\",\n",
       "    \"  color: firebrick;\",\n",
       "    \"  font-size: 14px;\",\n",
       "    \"}\",\n",
       "  ].join(\"\\\\n\");\n",
       "\n",
       "  // element is a jQuery wrapped DOM element inside the output area\n",
       "  // see http://ipython.readthedocs.io/en/stable/api/generated/\\\n",
       "  // IPython.display.html#IPython.display.Javascript.__init__\n",
       "  element[0].appendChild(target);\n",
       "  element[0].appendChild(style);\n",
       "\n",
       "  vega.render(\"#\" + id, spec, type, opt, output_area);\n",
       "}, function (err) {\n",
       "  if (err.requireType !== \"scripterror\") {\n",
       "    throw(err);\n",
       "  }\n",
       "});\n"
      ],
      "text/plain": [
       "<vega.vegalite.VegaLite at 0x204149a39b0>"
      ]
     },
     "metadata": {
      "jupyter-vega": "#28c7de5f-493c-4ae6-9d0f-5057d471768d"
     },
     "output_type": "display_data"
    },
    {
     "data": {
      "text/plain": []
     },
     "execution_count": 79,
     "metadata": {},
     "output_type": "execute_result"
    },
    {
     "data": {
      "image/png": "[encoded data removed]"
     },
     "metadata": {
      "jupyter-vega": "#28c7de5f-493c-4ae6-9d0f-5057d471768d"
     },
     "output_type": "display_data"
    }
   ],
   "source": [
    "\n",
    "p6 = alt.Chart(X_train).mark_bar().encode(\n",
    "    alt.X('race:O', title = \"\"),\n",
    "    alt.Y('count()', title = \"Counts\"),\n",
    "    facet = 'target:N'\n",
    ").properties(\n",
    "    title = \"Variation of race\",\n",
    "    width = 300,\n",
    "    height = 200\n",
    ")\n",
    "p6"
   ]
  },
  {
   "cell_type": "code",
   "execution_count": 80,
   "metadata": {},
   "outputs": [
    {
     "data": {
      "application/javascript": [
       "const spec = {\"config\": {\"view\": {\"width\": 400, \"height\": 300}, \"mark\": {\"tooltip\": null}}, \"data\": {\"url\": \"altair-data-40761032f0f14a89f55e98fd2b46e664.json\", \"format\": {\"type\": \"json\"}}, \"mark\": \"bar\", \"encoding\": {\"facet\": {\"type\": \"nominal\", \"field\": \"target\"}, \"x\": {\"type\": \"ordinal\", \"field\": \"marital_status\", \"title\": \"\"}, \"y\": {\"type\": \"quantitative\", \"aggregate\": \"count\", \"title\": \"Counts\"}}, \"height\": 200, \"title\": \"Variation of Marital Status with target\", \"width\": 400, \"$schema\": \"https://vega.github.io/schema/vega-lite/v3.4.0.json\"};\n",
       "const opt = {};\n",
       "const type = \"vega-lite\";\n",
       "const id = \"5a99ecfd-4586-4deb-b686-69998c956395\";\n",
       "\n",
       "const output_area = this;\n",
       "\n",
       "require([\"nbextensions/jupyter-vega/index\"], function(vega) {\n",
       "  const target = document.createElement(\"div\");\n",
       "  target.id = id;\n",
       "  target.className = \"vega-embed\";\n",
       "\n",
       "  const style = document.createElement(\"style\");\n",
       "  style.textContent = [\n",
       "    \".vega-embed .error p {\",\n",
       "    \"  color: firebrick;\",\n",
       "    \"  font-size: 14px;\",\n",
       "    \"}\",\n",
       "  ].join(\"\\\\n\");\n",
       "\n",
       "  // element is a jQuery wrapped DOM element inside the output area\n",
       "  // see http://ipython.readthedocs.io/en/stable/api/generated/\\\n",
       "  // IPython.display.html#IPython.display.Javascript.__init__\n",
       "  element[0].appendChild(target);\n",
       "  element[0].appendChild(style);\n",
       "\n",
       "  vega.render(\"#\" + id, spec, type, opt, output_area);\n",
       "}, function (err) {\n",
       "  if (err.requireType !== \"scripterror\") {\n",
       "    throw(err);\n",
       "  }\n",
       "});\n"
      ],
      "text/plain": [
       "<vega.vegalite.VegaLite at 0x20414c8aa58>"
      ]
     },
     "metadata": {
      "jupyter-vega": "#5a99ecfd-4586-4deb-b686-69998c956395"
     },
     "output_type": "display_data"
    },
    {
     "data": {
      "text/plain": []
     },
     "execution_count": 80,
     "metadata": {},
     "output_type": "execute_result"
    },
    {
     "data": {
      "image/png": "[encoded data removed]"
     },
     "metadata": {
      "jupyter-vega": "#5a99ecfd-4586-4deb-b686-69998c956395"
     },
     "output_type": "display_data"
    }
   ],
   "source": [
    "p7 = alt.Chart(X_train).mark_bar().encode(\n",
    "    alt.X('marital_status:O', title = \"\"),\n",
    "    alt.Y('count()', title = \"Counts\"),\n",
    "    facet = 'target:N'\n",
    ").properties(\n",
    "    title = \"Variation of Marital Status with target\",\n",
    "    width = 400,\n",
    "    height = 200\n",
    ")\n",
    "p7"
   ]
  },
  {
   "cell_type": "code",
   "execution_count": 82,
   "metadata": {},
   "outputs": [
    {
     "data": {
      "application/javascript": [
       "const spec = {\"config\": {\"view\": {\"width\": 400, \"height\": 300}, \"mark\": {\"tooltip\": null}}, \"data\": {\"url\": \"altair-data-40761032f0f14a89f55e98fd2b46e664.json\", \"format\": {\"type\": \"json\"}}, \"mark\": \"bar\", \"encoding\": {\"facet\": {\"type\": \"nominal\", \"field\": \"target\"}, \"x\": {\"type\": \"ordinal\", \"field\": \"occupation\", \"title\": \"\"}, \"y\": {\"type\": \"quantitative\", \"aggregate\": \"count\", \"title\": \"Counts\"}}, \"height\": 200, \"title\": \"Variation of Occupation with target\", \"width\": 400, \"$schema\": \"https://vega.github.io/schema/vega-lite/v3.4.0.json\"};\n",
       "const opt = {};\n",
       "const type = \"vega-lite\";\n",
       "const id = \"93e86504-59ce-445c-ba72-21a5edeaed0d\";\n",
       "\n",
       "const output_area = this;\n",
       "\n",
       "require([\"nbextensions/jupyter-vega/index\"], function(vega) {\n",
       "  const target = document.createElement(\"div\");\n",
       "  target.id = id;\n",
       "  target.className = \"vega-embed\";\n",
       "\n",
       "  const style = document.createElement(\"style\");\n",
       "  style.textContent = [\n",
       "    \".vega-embed .error p {\",\n",
       "    \"  color: firebrick;\",\n",
       "    \"  font-size: 14px;\",\n",
       "    \"}\",\n",
       "  ].join(\"\\\\n\");\n",
       "\n",
       "  // element is a jQuery wrapped DOM element inside the output area\n",
       "  // see http://ipython.readthedocs.io/en/stable/api/generated/\\\n",
       "  // IPython.display.html#IPython.display.Javascript.__init__\n",
       "  element[0].appendChild(target);\n",
       "  element[0].appendChild(style);\n",
       "\n",
       "  vega.render(\"#\" + id, spec, type, opt, output_area);\n",
       "}, function (err) {\n",
       "  if (err.requireType !== \"scripterror\") {\n",
       "    throw(err);\n",
       "  }\n",
       "});\n"
      ],
      "text/plain": [
       "<vega.vegalite.VegaLite at 0x20415be8438>"
      ]
     },
     "metadata": {
      "jupyter-vega": "#93e86504-59ce-445c-ba72-21a5edeaed0d"
     },
     "output_type": "display_data"
    },
    {
     "data": {
      "text/plain": []
     },
     "execution_count": 82,
     "metadata": {},
     "output_type": "execute_result"
    },
    {
     "data": {
      "image/png": "[encoded data removed]"
     },
     "metadata": {
      "jupyter-vega": "#93e86504-59ce-445c-ba72-21a5edeaed0d"
     },
     "output_type": "display_data"
    }
   ],
   "source": [
    "p8 = alt.Chart(X_train).mark_bar().encode(\n",
    "    alt.X('occupation:O', title = \"\"),\n",
    "    alt.Y('count()', title = \"Counts\"),\n",
    "    facet = 'target:N'\n",
    ").properties(\n",
    "    title = \"Variation of Occupation with target\",\n",
    "    width = 400,\n",
    "    height = 200\n",
    ")\n",
    "p8"
   ]
  },
  {
   "cell_type": "code",
   "execution_count": null,
   "metadata": {},
   "outputs": [],
   "source": []
  }
 ],
 "metadata": {
  "kernelspec": {
   "display_name": "Python 3",
   "language": "python",
   "name": "python3"
  },
  "language_info": {
   "codemirror_mode": {
    "name": "ipython",
    "version": 3
   },
   "file_extension": ".py",
   "mimetype": "text/x-python",
   "name": "python",
   "nbconvert_exporter": "python",
   "pygments_lexer": "ipython3",
   "version": "3.7.3"
  }
 },
 "nbformat": 4,
 "nbformat_minor": 2
}
